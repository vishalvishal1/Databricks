{
 "cells": [
  {
   "cell_type": "markdown",
   "metadata": {
    "application/vnd.databricks.v1+cell": {
     "cellMetadata": {},
     "inputWidgets": {},
     "nuid": "7356b34b-0f23-40a2-a802-3514477ab3c3",
     "showTitle": false,
     "tableResultSettingsMap": {},
     "title": ""
    }
   },
   "source": [
    "### ## DF CREATION"
   ]
  },
  {
   "cell_type": "code",
   "execution_count": 0,
   "metadata": {
    "application/vnd.databricks.v1+cell": {
     "cellMetadata": {
      "byteLimit": 2048000,
      "rowLimit": 10000
     },
     "inputWidgets": {},
     "nuid": "23ddcd9d-6fb1-4fa9-84b7-75865fd4261b",
     "showTitle": false,
     "tableResultSettingsMap": {},
     "title": ""
    }
   },
   "outputs": [],
   "source": [
    "df_employees = spark.read.format(\"csv\").option(\"inferSchema\", True).option(\"Header\", True).load(\"/Volumes/workspace/default/join/employees.csv\")\n",
    "\n",
    "df_department = spark.read.format(\"csv\").option(\"inferschema\", True).option(\"header\", True).load(\"/Volumes/workspace/default/join/departments.csv\")\n",
    "\n",
    "\n",
    "\n",
    "#df_parquet = spark.read.format(\"parquet\").load(\"/mnt/data/sample.parquet\")\n",
    "\n",
    "#df = spark.read.format(\"json\").option(\"multiline\", \"true\").load(\"/mnt/data/sample.json\")\n",
    "\n"
   ]
  },
  {
   "cell_type": "code",
   "execution_count": 0,
   "metadata": {
    "application/vnd.databricks.v1+cell": {
     "cellMetadata": {
      "byteLimit": 2048000,
      "rowLimit": 10000
     },
     "inputWidgets": {},
     "nuid": "d4a48fa8-07fe-4d84-bf76-0e02ce44426c",
     "showTitle": false,
     "tableResultSettingsMap": {
      "0": {
       "dataGridStateBlob": "{\"version\":1,\"tableState\":{\"columnPinning\":{\"left\":[\"#row_number#\"],\"right\":[]},\"columnSizing\":{},\"columnVisibility\":{}},\"settings\":{\"columns\":{}},\"syncTimestamp\":1755505461912}",
       "filterBlob": null,
       "queryPlanFiltersBlob": null,
       "tableResultIndex": 0
      }
     },
     "title": ""
    }
   },
   "outputs": [],
   "source": [
    "display(df_department)"
   ]
  },
  {
   "cell_type": "markdown",
   "metadata": {
    "application/vnd.databricks.v1+cell": {
     "cellMetadata": {},
     "inputWidgets": {},
     "nuid": "0c1eddc6-770c-4c3f-8783-805af21da16f",
     "showTitle": false,
     "tableResultSettingsMap": {},
     "title": ""
    }
   },
   "source": [
    "### **JOINS/ remove duplicate column from DF"
   ]
  },
  {
   "cell_type": "code",
   "execution_count": 0,
   "metadata": {
    "application/vnd.databricks.v1+cell": {
     "cellMetadata": {
      "byteLimit": 2048000,
      "rowLimit": 10000
     },
     "inputWidgets": {},
     "nuid": "edb0d7a3-cfff-4a4f-989d-8944eab0591a",
     "showTitle": false,
     "tableResultSettingsMap": {
      "0": {
       "dataGridStateBlob": "{\"version\":1,\"tableState\":{\"columnPinning\":{\"left\":[\"#row_number#\"],\"right\":[]},\"columnSizing\":{},\"columnVisibility\":{}},\"settings\":{\"columns\":{}},\"syncTimestamp\":1755593370976}",
       "filterBlob": null,
       "queryPlanFiltersBlob": null,
       "tableResultIndex": 0
      }
     },
     "title": ""
    }
   },
   "outputs": [],
   "source": [
    "df_leftjoin = df_employees.join(df_department,df_employees.dept_id == df_department.dept_id, \"left\").drop(df_department.dept_id)\n",
    "display(df_leftjoin)\n",
    "\n"
   ]
  },
  {
   "cell_type": "code",
   "execution_count": 0,
   "metadata": {
    "application/vnd.databricks.v1+cell": {
     "cellMetadata": {
      "byteLimit": 2048000,
      "rowLimit": 10000
     },
     "inputWidgets": {},
     "nuid": "2297204a-9c6a-46a6-b318-58faae40345a",
     "showTitle": false,
     "tableResultSettingsMap": {},
     "title": ""
    }
   },
   "outputs": [],
   "source": [
    "df_rightjoin = df_employees.join(df_department, df_employees.dept_id == df_department.dept_id, \"right\")\n",
    "\n",
    "display(df_rightjoin)"
   ]
  },
  {
   "cell_type": "markdown",
   "metadata": {
    "application/vnd.databricks.v1+cell": {
     "cellMetadata": {},
     "inputWidgets": {},
     "nuid": "177bc560-b37e-4480-b389-22e4139edad3",
     "showTitle": false,
     "tableResultSettingsMap": {},
     "title": ""
    }
   },
   "source": [
    "Broadcast join for data skewing (performance)"
   ]
  },
  {
   "cell_type": "code",
   "execution_count": 0,
   "metadata": {
    "application/vnd.databricks.v1+cell": {
     "cellMetadata": {
      "byteLimit": 2048000,
      "rowLimit": 10000
     },
     "inputWidgets": {},
     "nuid": "87826df6-d1f6-45d3-ab31-982e1f342b6a",
     "showTitle": false,
     "tableResultSettingsMap": {
      "0": {
       "dataGridStateBlob": "{\"version\":1,\"tableState\":{\"columnPinning\":{\"left\":[\"#row_number#\"],\"right\":[]},\"columnSizing\":{},\"columnVisibility\":{}},\"settings\":{\"columns\":{}},\"syncTimestamp\":1755594682962}",
       "filterBlob": null,
       "queryPlanFiltersBlob": null,
       "tableResultIndex": 0
      }
     },
     "title": ""
    }
   },
   "outputs": [],
   "source": [
    "from pyspark.sql.functions import broadcast\n",
    "\n",
    "df_broadcast = df_employees.join(broadcast(df_department), df_employees.dept_id == df_department.dept_id, \"left\").drop(df_employees.dept_id)\n",
    "\n",
    "df_broadcast.write.format(\"delta\").mode(\"overwrite\").saveAsTable(\"workspace.default.test\")\n",
    "\n",
    "\n",
    "df_employees.write.format(\"csv\").mode(\"overwrite\").save(\"/Volumes/workspace/default/join/transform\")\n",
    "\n"
   ]
  },
  {
   "cell_type": "code",
   "execution_count": 0,
   "metadata": {
    "application/vnd.databricks.v1+cell": {
     "cellMetadata": {
      "byteLimit": 2048000,
      "rowLimit": 10000
     },
     "inputWidgets": {},
     "nuid": "939ecc8b-f1c1-4aba-9a82-7fe8cc7bbcaf",
     "showTitle": true,
     "tableResultSettingsMap": {},
     "title": "Write/ Partition"
    }
   },
   "outputs": [],
   "source": [
    "df_broadcast.write.format(\"csv\").mode(\"overwrite\").partitionBy(\"dept_name\").save(\"/Volumes/workspace/default/join/test\")\n",
    "\n",
    "#display(df_broadcast)"
   ]
  },
  {
   "cell_type": "code",
   "execution_count": 0,
   "metadata": {
    "application/vnd.databricks.v1+cell": {
     "cellMetadata": {
      "byteLimit": 2048000,
      "rowLimit": 10000
     },
     "inputWidgets": {},
     "nuid": "4ed6a5ee-7608-4816-9b10-cec33fdad1be",
     "showTitle": false,
     "tableResultSettingsMap": {},
     "title": ""
    }
   },
   "outputs": [],
   "source": [
    "df_uber = spark.read.format(\"csv\").option(\"header\", True).option(\"inferschema\", True).load(\"/Volumes/workspace/default/uber\")"
   ]
  },
  {
   "cell_type": "markdown",
   "metadata": {
    "application/vnd.databricks.v1+cell": {
     "cellMetadata": {},
     "inputWidgets": {},
     "nuid": "c98e2a01-c4ee-43a0-af69-3fbcde11a1b4",
     "showTitle": false,
     "tableResultSettingsMap": {},
     "title": ""
    }
   },
   "source": [
    "### ** REGEXP_REPLACE VALUE REPLACE**"
   ]
  },
  {
   "cell_type": "code",
   "execution_count": 0,
   "metadata": {
    "application/vnd.databricks.v1+cell": {
     "cellMetadata": {
      "byteLimit": 2048000,
      "rowLimit": 10000
     },
     "inputWidgets": {},
     "nuid": "05531bd0-91b9-4e39-8b83-4b69f9f75d1b",
     "showTitle": false,
     "tableResultSettingsMap": {
      "0": {
       "dataGridStateBlob": "{\"version\":1,\"tableState\":{\"columnPinning\":{\"left\":[\"#row_number#\"],\"right\":[]},\"columnSizing\":{},\"columnVisibility\":{}},\"settings\":{\"columns\":{}},\"syncTimestamp\":1755683358163}",
       "filterBlob": null,
       "queryPlanFiltersBlob": null,
       "tableResultIndex": 0
      }
     },
     "title": ""
    }
   },
   "outputs": [],
   "source": [
    "from pyspark.sql.functions import *\n",
    "\n",
    "dfclean_uber = df_uber.withColumn(\"Booking ID\", regexp_replace(col(\"Booking ID\"), '\"', '')) ## remove \"\"\"\"\"\" from  \"booking ID\" column\n",
    "\n",
    "df_clean = dfclean_uber.withColumn(\"Customer Rating\", regexp_replace(col(\"Customer Rating\"), \"null\", \"0.0\")) \n",
    "## change \"customer Rating\" \"String\" null to 0.0 to convert the string datatype to double\n",
    "\n",
    "df_cast = df_clean.withColumn(\"Customer Rating\",(col(\"Customer Rating\").cast(\"double\")))\n",
    " ## changed \"customer Rating\" column datatype from string  to double\n",
    "\n",
    "df_ubercolumn = df_cast.withColumn(\"Bookingstar\", when(col(\"Customer Rating\") >= 4.5, \"Good\").otherwise(\"bad\")) \n",
    "## creating new column \"Booking Star\" with data Good or bad  based on \"Customer Rating\" column\n",
    "\n"
   ]
  },
  {
   "cell_type": "code",
   "execution_count": 0,
   "metadata": {
    "application/vnd.databricks.v1+cell": {
     "cellMetadata": {
      "byteLimit": 2048000,
      "rowLimit": 10000
     },
     "inputWidgets": {},
     "nuid": "0e28611d-acdb-4dc1-bf5b-9669a2c11361",
     "showTitle": false,
     "tableResultSettingsMap": {},
     "title": ""
    }
   },
   "outputs": [],
   "source": [
    "display(df_uber) #before regexp_replace\n",
    "display(dfclean_uber) #after regexp_replace\n"
   ]
  },
  {
   "cell_type": "code",
   "execution_count": 0,
   "metadata": {
    "application/vnd.databricks.v1+cell": {
     "cellMetadata": {},
     "inputWidgets": {},
     "nuid": "4a9c056c-0141-4635-a02d-d96244335c37",
     "showTitle": false,
     "tableResultSettingsMap": {},
     "title": ""
    }
   },
   "outputs": [],
   "source": []
  }
 ],
 "metadata": {
  "application/vnd.databricks.v1+notebook": {
   "computePreferences": {
    "hardware": {
     "accelerator": null,
     "gpuPoolId": null,
     "memory": null
    }
   },
   "dashboards": [],
   "environmentMetadata": {
    "base_environment": "",
    "environment_version": "2"
   },
   "inputWidgetPreferences": null,
   "language": "python",
   "notebookMetadata": {
    "mostRecentlyExecutedCommandWithImplicitDF": {
     "commandId": 5134886673624315,
     "dataframes": [
      "_sqldf"
     ]
    },
    "pythonIndentUnit": 4
   },
   "notebookName": "Databricks worknote",
   "widgets": {}
  },
  "language_info": {
   "name": "python"
  }
 },
 "nbformat": 4,
 "nbformat_minor": 0
}
